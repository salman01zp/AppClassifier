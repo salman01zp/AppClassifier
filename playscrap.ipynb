{
 "cells": [
  {
   "cell_type": "markdown",
   "metadata": {},
   "source": [
    "## _Import Libraries _ "
   ]
  },
  {
   "cell_type": "code",
   "execution_count": 1,
   "metadata": {
    "collapsed": true
   },
   "outputs": [],
   "source": [
    "import play_scraper\n",
    "import csv\n",
    "import pandas as pd"
   ]
  },
  {
   "cell_type": "markdown",
   "metadata": {},
   "source": [
    "## _Lets take data from Trending collection of GAMERACING category_"
   ]
  },
  {
   "cell_type": "code",
   "execution_count": 2,
   "metadata": {},
   "outputs": [],
   "source": [
    "a = play_scraper.collection(\n",
    "        collection='TRENDING',\n",
    "        category='GAME_RACING',\n",
    "        results=5,\n",
    "        page=1)"
   ]
  },
  {
   "cell_type": "markdown",
   "metadata": {},
   "source": [
    "## _Data which we get is dirty and cant be used directly. We need to preprocess and make it in machine readable format_"
   ]
  },
  {
   "cell_type": "markdown",
   "metadata": {},
   "source": [
    "## _properties of Dirty Data_\n",
    "1. They are not just words they have / ? ! @ # $ % & _ // such charachters in the word\n",
    "2. They contain unwanted data like url , id , img_addrs , links which are of no use to us\n",
    "3. They have both text and numeric data\n",
    "    "
   ]
  },
  {
   "cell_type": "code",
   "execution_count": 3,
   "metadata": {},
   "outputs": [
    {
     "name": "stdout",
     "output_type": "stream",
     "text": [
      "[{'url': 'https://play.google.com/store/apps/details?id=com.gss.train.vs.prado2.game.free', 'description': 'Take the blend of Prado vs train racing 2', 'score': '4.2', 'title': 'Train vs Prado Racing 2017 New 2', 'developer_id': '7423922608960845646', 'developer': 'Gamesoft Studios', 'app_id': 'com.gss.train.vs.prado2.game.free', 'free': True, 'price': '0', 'icon': 'https://lh3.googleusercontent.com/cIIvdDnDLCWRlw91TASYmmfOep66FCbEvbqI9eb6O2FRpp8uGzjkk_JRrBy6g5P6JSk'}, {'url': 'https://play.google.com/store/apps/details?id=com.BestFunGames.CarRacingTrafficRacerDriving', 'description': 'Top quality race in car 3D game. Best car traffic racer. Play Now.', 'score': '4.4', 'title': 'Heavy Racing In Car Traffic Racer Speed Driving', 'developer_id': None, 'developer': 'Best Fun Games Racing Simulators', 'app_id': 'com.BestFunGames.CarRacingTrafficRacerDriving', 'free': True, 'price': '0', 'icon': 'https://lh3.googleusercontent.com/_jHZpim-daRfB57iOxCpeSWclu08vI0EETcMdYocZZd66GylIQvd-Ifk0oxx38c9MQ'}, {'url': 'https://play.google.com/store/apps/details?id=com.ansangha.drdriving', 'description': 'Dr. Driving 2 is released!', 'score': '4.5', 'title': 'Dr. Driving', 'developer_id': '6115615018010073039', 'developer': 'SUD Inc.', 'app_id': 'com.ansangha.drdriving', 'free': True, 'price': '0', 'icon': 'https://lh6.ggpht.com/_NajhNZ75NZN_CuQ7O1HMvD9BOPZEX8FmwtQaAC1RqRaAnl8geTYodi02U8hcfbnwMs'}, {'url': 'https://play.google.com/store/apps/details?id=com.reststudio.carracer', 'description': 'Racing fast car in the traffic with super speed', 'score': '4.6', 'title': 'Car Racing', 'developer_id': None, 'developer': 'Rest Studio', 'app_id': 'com.reststudio.carracer', 'free': True, 'price': '0', 'icon': 'https://lh3.googleusercontent.com/NEcGgaWTJCS2XQGlKgGaJ4antly_T_r9hiY33oE3A3GOodMV5BTzBeyU4E6DbJe99dw'}, {'url': 'https://play.google.com/store/apps/details?id=com.globalappsh.racer.heavytraffic.speedy', 'description': 'Drive as fast as you can in heavy traffic on Highway / Greenland / Desert', 'score': '4.3', 'title': 'Heavy Traffic Racer: Speedy', 'developer_id': None, 'developer': 'GlobalApps H', 'app_id': 'com.globalappsh.racer.heavytraffic.speedy', 'free': True, 'price': '0', 'icon': 'https://lh3.googleusercontent.com/CAOjilHHaiW-lAppc_1Vui_nLXcEU3aii8V_21p1y7k0fnKmowqs2qqvepw7INDGVw'}]\n"
     ]
    }
   ],
   "source": [
    "print(a)"
   ]
  },
  {
   "cell_type": "code",
   "execution_count": 4,
   "metadata": {},
   "outputs": [
    {
     "data": {
      "text/plain": [
       "list"
      ]
     },
     "execution_count": 4,
     "metadata": {},
     "output_type": "execute_result"
    }
   ],
   "source": [
    "type(a)"
   ]
  },
  {
   "cell_type": "markdown",
   "metadata": {},
   "source": [
    "## _we need to first take this data into data frame. So lets define a function which creates csv file for above data_"
   ]
  },
  {
   "cell_type": "code",
   "execution_count": 5,
   "metadata": {
    "collapsed": true
   },
   "outputs": [],
   "source": [
    "def csvwriter(a, b):\n",
    "    keys = b[0].keys()\n",
    "    with open(a, 'w') as output_file:\n",
    "        dict_writer = csv.DictWriter(output_file, keys)\n",
    "        dict_writer.writeheader()\n",
    "        dict_writer.writerows(b)"
   ]
  },
  {
   "cell_type": "code",
   "execution_count": 6,
   "metadata": {},
   "outputs": [],
   "source": [
    "csvwriter('test1.csv',a)\n"
   ]
  },
  {
   "cell_type": "markdown",
   "metadata": {},
   "source": [
    "## _Lets see data inside the csv file_"
   ]
  },
  {
   "cell_type": "code",
   "execution_count": 7,
   "metadata": {
    "collapsed": true
   },
   "outputs": [],
   "source": [
    "train = pd.read_csv('test1.csv')"
   ]
  },
  {
   "cell_type": "code",
   "execution_count": 8,
   "metadata": {
    "scrolled": true
   },
   "outputs": [
    {
     "data": {
      "text/html": [
       "<div>\n",
       "<style>\n",
       "    .dataframe thead tr:only-child th {\n",
       "        text-align: right;\n",
       "    }\n",
       "\n",
       "    .dataframe thead th {\n",
       "        text-align: left;\n",
       "    }\n",
       "\n",
       "    .dataframe tbody tr th {\n",
       "        vertical-align: top;\n",
       "    }\n",
       "</style>\n",
       "<table border=\"1\" class=\"dataframe\">\n",
       "  <thead>\n",
       "    <tr style=\"text-align: right;\">\n",
       "      <th></th>\n",
       "      <th>url</th>\n",
       "      <th>description</th>\n",
       "      <th>score</th>\n",
       "      <th>title</th>\n",
       "      <th>developer_id</th>\n",
       "      <th>developer</th>\n",
       "      <th>app_id</th>\n",
       "      <th>free</th>\n",
       "      <th>price</th>\n",
       "      <th>icon</th>\n",
       "    </tr>\n",
       "  </thead>\n",
       "  <tbody>\n",
       "    <tr>\n",
       "      <th>0</th>\n",
       "      <td>https://play.google.com/store/apps/details?id=...</td>\n",
       "      <td>Take the blend of Prado vs train racing 2</td>\n",
       "      <td>4.2</td>\n",
       "      <td>Train vs Prado Racing 2017 New 2</td>\n",
       "      <td>7.423923e+18</td>\n",
       "      <td>Gamesoft Studios</td>\n",
       "      <td>com.gss.train.vs.prado2.game.free</td>\n",
       "      <td>True</td>\n",
       "      <td>0</td>\n",
       "      <td>https://lh3.googleusercontent.com/cIIvdDnDLCWR...</td>\n",
       "    </tr>\n",
       "    <tr>\n",
       "      <th>1</th>\n",
       "      <td>https://play.google.com/store/apps/details?id=...</td>\n",
       "      <td>Top quality race in car 3D game. Best car traf...</td>\n",
       "      <td>4.4</td>\n",
       "      <td>Heavy Racing In Car Traffic Racer Speed Driving</td>\n",
       "      <td>NaN</td>\n",
       "      <td>Best Fun Games Racing Simulators</td>\n",
       "      <td>com.BestFunGames.CarRacingTrafficRacerDriving</td>\n",
       "      <td>True</td>\n",
       "      <td>0</td>\n",
       "      <td>https://lh3.googleusercontent.com/_jHZpim-daRf...</td>\n",
       "    </tr>\n",
       "    <tr>\n",
       "      <th>2</th>\n",
       "      <td>https://play.google.com/store/apps/details?id=...</td>\n",
       "      <td>Dr. Driving 2 is released!</td>\n",
       "      <td>4.5</td>\n",
       "      <td>Dr. Driving</td>\n",
       "      <td>6.115615e+18</td>\n",
       "      <td>SUD Inc.</td>\n",
       "      <td>com.ansangha.drdriving</td>\n",
       "      <td>True</td>\n",
       "      <td>0</td>\n",
       "      <td>https://lh6.ggpht.com/_NajhNZ75NZN_CuQ7O1HMvD9...</td>\n",
       "    </tr>\n",
       "    <tr>\n",
       "      <th>3</th>\n",
       "      <td>https://play.google.com/store/apps/details?id=...</td>\n",
       "      <td>Racing fast car in the traffic with super speed</td>\n",
       "      <td>4.6</td>\n",
       "      <td>Car Racing</td>\n",
       "      <td>NaN</td>\n",
       "      <td>Rest Studio</td>\n",
       "      <td>com.reststudio.carracer</td>\n",
       "      <td>True</td>\n",
       "      <td>0</td>\n",
       "      <td>https://lh3.googleusercontent.com/NEcGgaWTJCS2...</td>\n",
       "    </tr>\n",
       "    <tr>\n",
       "      <th>4</th>\n",
       "      <td>https://play.google.com/store/apps/details?id=...</td>\n",
       "      <td>Drive as fast as you can in heavy traffic on H...</td>\n",
       "      <td>4.3</td>\n",
       "      <td>Heavy Traffic Racer: Speedy</td>\n",
       "      <td>NaN</td>\n",
       "      <td>GlobalApps H</td>\n",
       "      <td>com.globalappsh.racer.heavytraffic.speedy</td>\n",
       "      <td>True</td>\n",
       "      <td>0</td>\n",
       "      <td>https://lh3.googleusercontent.com/CAOjilHHaiW-...</td>\n",
       "    </tr>\n",
       "  </tbody>\n",
       "</table>\n",
       "</div>"
      ],
      "text/plain": [
       "                                                 url  \\\n",
       "0  https://play.google.com/store/apps/details?id=...   \n",
       "1  https://play.google.com/store/apps/details?id=...   \n",
       "2  https://play.google.com/store/apps/details?id=...   \n",
       "3  https://play.google.com/store/apps/details?id=...   \n",
       "4  https://play.google.com/store/apps/details?id=...   \n",
       "\n",
       "                                         description  score  \\\n",
       "0          Take the blend of Prado vs train racing 2    4.2   \n",
       "1  Top quality race in car 3D game. Best car traf...    4.4   \n",
       "2                         Dr. Driving 2 is released!    4.5   \n",
       "3    Racing fast car in the traffic with super speed    4.6   \n",
       "4  Drive as fast as you can in heavy traffic on H...    4.3   \n",
       "\n",
       "                                             title  developer_id  \\\n",
       "0                 Train vs Prado Racing 2017 New 2  7.423923e+18   \n",
       "1  Heavy Racing In Car Traffic Racer Speed Driving           NaN   \n",
       "2                                      Dr. Driving  6.115615e+18   \n",
       "3                                       Car Racing           NaN   \n",
       "4                      Heavy Traffic Racer: Speedy           NaN   \n",
       "\n",
       "                          developer  \\\n",
       "0                  Gamesoft Studios   \n",
       "1  Best Fun Games Racing Simulators   \n",
       "2                          SUD Inc.   \n",
       "3                       Rest Studio   \n",
       "4                      GlobalApps H   \n",
       "\n",
       "                                          app_id  free  price  \\\n",
       "0              com.gss.train.vs.prado2.game.free  True      0   \n",
       "1  com.BestFunGames.CarRacingTrafficRacerDriving  True      0   \n",
       "2                         com.ansangha.drdriving  True      0   \n",
       "3                        com.reststudio.carracer  True      0   \n",
       "4      com.globalappsh.racer.heavytraffic.speedy  True      0   \n",
       "\n",
       "                                                icon  \n",
       "0  https://lh3.googleusercontent.com/cIIvdDnDLCWR...  \n",
       "1  https://lh3.googleusercontent.com/_jHZpim-daRf...  \n",
       "2  https://lh6.ggpht.com/_NajhNZ75NZN_CuQ7O1HMvD9...  \n",
       "3  https://lh3.googleusercontent.com/NEcGgaWTJCS2...  \n",
       "4  https://lh3.googleusercontent.com/CAOjilHHaiW-...  "
      ]
     },
     "execution_count": 8,
     "metadata": {},
     "output_type": "execute_result"
    }
   ],
   "source": [
    "train.head()"
   ]
  },
  {
   "cell_type": "markdown",
   "metadata": {},
   "source": [
    "## _This looks much better than before but its still of no use .. lets drop some unnecessary columns_"
   ]
  },
  {
   "cell_type": "code",
   "execution_count": 9,
   "metadata": {},
   "outputs": [
    {
     "data": {
      "text/plain": [
       "Index(['url', 'description', 'score', 'title', 'developer_id', 'developer',\n",
       "       'app_id', 'free', 'price', 'icon'],\n",
       "      dtype='object')"
      ]
     },
     "execution_count": 9,
     "metadata": {},
     "output_type": "execute_result"
    }
   ],
   "source": [
    "train.columns"
   ]
  },
  {
   "cell_type": "code",
   "execution_count": 10,
   "metadata": {},
   "outputs": [],
   "source": [
    "train = train.drop(['url','developer_id','app_id','icon'], axis=1)"
   ]
  },
  {
   "cell_type": "code",
   "execution_count": 11,
   "metadata": {
    "collapsed": true
   },
   "outputs": [],
   "source": [
    "## _Now Lets check our data"
   ]
  },
  {
   "cell_type": "code",
   "execution_count": 12,
   "metadata": {},
   "outputs": [
    {
     "data": {
      "text/html": [
       "<div>\n",
       "<style>\n",
       "    .dataframe thead tr:only-child th {\n",
       "        text-align: right;\n",
       "    }\n",
       "\n",
       "    .dataframe thead th {\n",
       "        text-align: left;\n",
       "    }\n",
       "\n",
       "    .dataframe tbody tr th {\n",
       "        vertical-align: top;\n",
       "    }\n",
       "</style>\n",
       "<table border=\"1\" class=\"dataframe\">\n",
       "  <thead>\n",
       "    <tr style=\"text-align: right;\">\n",
       "      <th></th>\n",
       "      <th>description</th>\n",
       "      <th>score</th>\n",
       "      <th>title</th>\n",
       "      <th>developer</th>\n",
       "      <th>free</th>\n",
       "      <th>price</th>\n",
       "    </tr>\n",
       "  </thead>\n",
       "  <tbody>\n",
       "    <tr>\n",
       "      <th>0</th>\n",
       "      <td>Take the blend of Prado vs train racing 2</td>\n",
       "      <td>4.2</td>\n",
       "      <td>Train vs Prado Racing 2017 New 2</td>\n",
       "      <td>Gamesoft Studios</td>\n",
       "      <td>True</td>\n",
       "      <td>0</td>\n",
       "    </tr>\n",
       "    <tr>\n",
       "      <th>1</th>\n",
       "      <td>Top quality race in car 3D game. Best car traf...</td>\n",
       "      <td>4.4</td>\n",
       "      <td>Heavy Racing In Car Traffic Racer Speed Driving</td>\n",
       "      <td>Best Fun Games Racing Simulators</td>\n",
       "      <td>True</td>\n",
       "      <td>0</td>\n",
       "    </tr>\n",
       "    <tr>\n",
       "      <th>2</th>\n",
       "      <td>Dr. Driving 2 is released!</td>\n",
       "      <td>4.5</td>\n",
       "      <td>Dr. Driving</td>\n",
       "      <td>SUD Inc.</td>\n",
       "      <td>True</td>\n",
       "      <td>0</td>\n",
       "    </tr>\n",
       "    <tr>\n",
       "      <th>3</th>\n",
       "      <td>Racing fast car in the traffic with super speed</td>\n",
       "      <td>4.6</td>\n",
       "      <td>Car Racing</td>\n",
       "      <td>Rest Studio</td>\n",
       "      <td>True</td>\n",
       "      <td>0</td>\n",
       "    </tr>\n",
       "    <tr>\n",
       "      <th>4</th>\n",
       "      <td>Drive as fast as you can in heavy traffic on H...</td>\n",
       "      <td>4.3</td>\n",
       "      <td>Heavy Traffic Racer: Speedy</td>\n",
       "      <td>GlobalApps H</td>\n",
       "      <td>True</td>\n",
       "      <td>0</td>\n",
       "    </tr>\n",
       "  </tbody>\n",
       "</table>\n",
       "</div>"
      ],
      "text/plain": [
       "                                         description  score  \\\n",
       "0          Take the blend of Prado vs train racing 2    4.2   \n",
       "1  Top quality race in car 3D game. Best car traf...    4.4   \n",
       "2                         Dr. Driving 2 is released!    4.5   \n",
       "3    Racing fast car in the traffic with super speed    4.6   \n",
       "4  Drive as fast as you can in heavy traffic on H...    4.3   \n",
       "\n",
       "                                             title  \\\n",
       "0                 Train vs Prado Racing 2017 New 2   \n",
       "1  Heavy Racing In Car Traffic Racer Speed Driving   \n",
       "2                                      Dr. Driving   \n",
       "3                                       Car Racing   \n",
       "4                      Heavy Traffic Racer: Speedy   \n",
       "\n",
       "                          developer  free  price  \n",
       "0                  Gamesoft Studios  True      0  \n",
       "1  Best Fun Games Racing Simulators  True      0  \n",
       "2                          SUD Inc.  True      0  \n",
       "3                       Rest Studio  True      0  \n",
       "4                      GlobalApps H  True      0  "
      ]
     },
     "execution_count": 12,
     "metadata": {},
     "output_type": "execute_result"
    }
   ],
   "source": [
    "train.head()"
   ]
  },
  {
   "cell_type": "markdown",
   "metadata": {},
   "source": [
    "### _  now it looks better but this is just sample data of just one category . Using the same we have already created a data set which has data of all the category_ "
   ]
  },
  {
   "cell_type": "code",
   "execution_count": 13,
   "metadata": {},
   "outputs": [
    {
     "data": {
      "text/html": [
       "<div>\n",
       "<style>\n",
       "    .dataframe thead tr:only-child th {\n",
       "        text-align: right;\n",
       "    }\n",
       "\n",
       "    .dataframe thead th {\n",
       "        text-align: left;\n",
       "    }\n",
       "\n",
       "    .dataframe tbody tr th {\n",
       "        vertical-align: top;\n",
       "    }\n",
       "</style>\n",
       "<table border=\"1\" class=\"dataframe\">\n",
       "  <thead>\n",
       "    <tr style=\"text-align: right;\">\n",
       "      <th></th>\n",
       "      <th>Category</th>\n",
       "      <th>AppName</th>\n",
       "      <th>ContentRating</th>\n",
       "      <th>IsFree</th>\n",
       "      <th>HaveInAppPurchases</th>\n",
       "      <th>Description</th>\n",
       "    </tr>\n",
       "  </thead>\n",
       "  <tbody>\n",
       "    <tr>\n",
       "      <th>0</th>\n",
       "      <td>GAME_ARCADE</td>\n",
       "      <td>Subway Surfers</td>\n",
       "      <td>Everyone 10+</td>\n",
       "      <td>True</td>\n",
       "      <td>True</td>\n",
       "      <td>DASH as fast as you can DODGE the oncoming tra...</td>\n",
       "    </tr>\n",
       "    <tr>\n",
       "      <th>1</th>\n",
       "      <td>GAME_ROLE_PLAYING</td>\n",
       "      <td>Walking Dead Road to Survival</td>\n",
       "      <td>Mature 17+</td>\n",
       "      <td>True</td>\n",
       "      <td>True</td>\n",
       "      <td>Are you ready to take over Woodbury and put an...</td>\n",
       "    </tr>\n",
       "    <tr>\n",
       "      <th>2</th>\n",
       "      <td>MUSIC_AND_AUDIO</td>\n",
       "      <td>SoundCloud  Music  Audio</td>\n",
       "      <td>Teen</td>\n",
       "      <td>True</td>\n",
       "      <td>False</td>\n",
       "      <td>Millions of people use SoundCloud to listen to...</td>\n",
       "    </tr>\n",
       "    <tr>\n",
       "      <th>3</th>\n",
       "      <td>GAME_CASUAL</td>\n",
       "      <td>Candy Crush Soda Saga</td>\n",
       "      <td>Everyone</td>\n",
       "      <td>True</td>\n",
       "      <td>True</td>\n",
       "      <td>Download Candy Crush Soda Saga for free now It...</td>\n",
       "    </tr>\n",
       "    <tr>\n",
       "      <th>4</th>\n",
       "      <td>GAME_SPORTS</td>\n",
       "      <td>8 Ball Pool</td>\n",
       "      <td>Everyone</td>\n",
       "      <td>True</td>\n",
       "      <td>True</td>\n",
       "      <td>The Worlds  Pool game  now on AndroidPlay with...</td>\n",
       "    </tr>\n",
       "  </tbody>\n",
       "</table>\n",
       "</div>"
      ],
      "text/plain": [
       "            Category                        AppName ContentRating  IsFree  \\\n",
       "0        GAME_ARCADE                 Subway Surfers  Everyone 10+    True   \n",
       "1  GAME_ROLE_PLAYING  Walking Dead Road to Survival    Mature 17+    True   \n",
       "2    MUSIC_AND_AUDIO       SoundCloud  Music  Audio          Teen    True   \n",
       "3        GAME_CASUAL          Candy Crush Soda Saga      Everyone    True   \n",
       "4        GAME_SPORTS                    8 Ball Pool      Everyone    True   \n",
       "\n",
       "   HaveInAppPurchases                                        Description  \n",
       "0                True  DASH as fast as you can DODGE the oncoming tra...  \n",
       "1                True  Are you ready to take over Woodbury and put an...  \n",
       "2               False  Millions of people use SoundCloud to listen to...  \n",
       "3                True  Download Candy Crush Soda Saga for free now It...  \n",
       "4                True  The Worlds  Pool game  now on AndroidPlay with...  "
      ]
     },
     "execution_count": 13,
     "metadata": {},
     "output_type": "execute_result"
    }
   ],
   "source": [
    "train_data = pd.read_csv(\"E:/classifier/data/PlayStoreData.csv\")\n",
    "train_data.head()"
   ]
  },
  {
   "cell_type": "markdown",
   "metadata": {},
   "source": [
    "## _This looks pretty nice but this is Text data and Machined DON'T understand text , they need numbers . So now we need to convert this text data into machine readable format..but  how.????_"
   ]
  },
  {
   "cell_type": "markdown",
   "metadata": {},
   "source": [
    "## _To make it simple lets take example to study how to convert Text data into Numbers_"
   ]
  },
  {
   "cell_type": "code",
   "execution_count": 14,
   "metadata": {
    "collapsed": true
   },
   "outputs": [],
   "source": [
    "# example text for model training (SMS messages)\n",
    "simple_train = ['call you tonight', 'Call me a cab', 'please call me... PLEASE!']"
   ]
  },
  {
   "cell_type": "markdown",
   "metadata": {},
   "source": [
    "From the [scikit-learn documentation](http://scikit-learn.org/stable/modules/feature_extraction.html#text-feature-extraction):\n",
    "\n",
    "> Text Analysis is a major application field for machine learning algorithms. However the raw data, a sequence of symbols cannot be fed directly to the algorithms themselves as most of them expect **numerical feature vectors with a fixed size** rather than the **raw text documents with variable length**.\n",
    "\n",
    "We will use [CountVectorizer](http://scikit-learn.org/stable/modules/generated/sklearn.feature_extraction.text.CountVectorizer.html) to \"convert text into a matrix of token counts\":"
   ]
  },
  {
   "cell_type": "code",
   "execution_count": 15,
   "metadata": {
    "collapsed": true
   },
   "outputs": [],
   "source": [
    "# import and instantiate CountVectorizer (with the default parameters)\n",
    "from sklearn.feature_extraction.text import CountVectorizer\n",
    "vect = CountVectorizer()"
   ]
  },
  {
   "cell_type": "code",
   "execution_count": 16,
   "metadata": {},
   "outputs": [
    {
     "data": {
      "text/plain": [
       "CountVectorizer(analyzer='word', binary=False, decode_error='strict',\n",
       "        dtype=<class 'numpy.int64'>, encoding='utf-8', input='content',\n",
       "        lowercase=True, max_df=1.0, max_features=None, min_df=1,\n",
       "        ngram_range=(1, 1), preprocessor=None, stop_words=None,\n",
       "        strip_accents=None, token_pattern='(?u)\\\\b\\\\w\\\\w+\\\\b',\n",
       "        tokenizer=None, vocabulary=None)"
      ]
     },
     "execution_count": 16,
     "metadata": {},
     "output_type": "execute_result"
    }
   ],
   "source": [
    "# learn the 'vocabulary' of the training data (occurs in-place)\n",
    "vect.fit(simple_train)"
   ]
  },
  {
   "cell_type": "code",
   "execution_count": 17,
   "metadata": {},
   "outputs": [
    {
     "data": {
      "text/plain": [
       "['cab', 'call', 'me', 'please', 'tonight', 'you']"
      ]
     },
     "execution_count": 17,
     "metadata": {},
     "output_type": "execute_result"
    }
   ],
   "source": [
    "# examine the fitted vocabulary\n",
    "vect.get_feature_names()"
   ]
  },
  {
   "cell_type": "code",
   "execution_count": 18,
   "metadata": {},
   "outputs": [
    {
     "data": {
      "text/plain": [
       "<3x6 sparse matrix of type '<class 'numpy.int64'>'\n",
       "\twith 9 stored elements in Compressed Sparse Row format>"
      ]
     },
     "execution_count": 18,
     "metadata": {},
     "output_type": "execute_result"
    }
   ],
   "source": [
    "# transform training data into a 'document-term matrix'\n",
    "simple_train_dtm = vect.transform(simple_train)\n",
    "simple_train_dtm"
   ]
  },
  {
   "cell_type": "code",
   "execution_count": 19,
   "metadata": {},
   "outputs": [
    {
     "data": {
      "text/plain": [
       "array([[0, 1, 0, 0, 1, 1],\n",
       "       [1, 1, 1, 0, 0, 0],\n",
       "       [0, 1, 1, 2, 0, 0]], dtype=int64)"
      ]
     },
     "execution_count": 19,
     "metadata": {},
     "output_type": "execute_result"
    }
   ],
   "source": [
    "# convert sparse matrix to a dense matrix\n",
    "simple_train_dtm.toarray()"
   ]
  },
  {
   "cell_type": "code",
   "execution_count": 20,
   "metadata": {},
   "outputs": [
    {
     "data": {
      "text/html": [
       "<div>\n",
       "<style>\n",
       "    .dataframe thead tr:only-child th {\n",
       "        text-align: right;\n",
       "    }\n",
       "\n",
       "    .dataframe thead th {\n",
       "        text-align: left;\n",
       "    }\n",
       "\n",
       "    .dataframe tbody tr th {\n",
       "        vertical-align: top;\n",
       "    }\n",
       "</style>\n",
       "<table border=\"1\" class=\"dataframe\">\n",
       "  <thead>\n",
       "    <tr style=\"text-align: right;\">\n",
       "      <th></th>\n",
       "      <th>cab</th>\n",
       "      <th>call</th>\n",
       "      <th>me</th>\n",
       "      <th>please</th>\n",
       "      <th>tonight</th>\n",
       "      <th>you</th>\n",
       "    </tr>\n",
       "  </thead>\n",
       "  <tbody>\n",
       "    <tr>\n",
       "      <th>0</th>\n",
       "      <td>0</td>\n",
       "      <td>1</td>\n",
       "      <td>0</td>\n",
       "      <td>0</td>\n",
       "      <td>1</td>\n",
       "      <td>1</td>\n",
       "    </tr>\n",
       "    <tr>\n",
       "      <th>1</th>\n",
       "      <td>1</td>\n",
       "      <td>1</td>\n",
       "      <td>1</td>\n",
       "      <td>0</td>\n",
       "      <td>0</td>\n",
       "      <td>0</td>\n",
       "    </tr>\n",
       "    <tr>\n",
       "      <th>2</th>\n",
       "      <td>0</td>\n",
       "      <td>1</td>\n",
       "      <td>1</td>\n",
       "      <td>2</td>\n",
       "      <td>0</td>\n",
       "      <td>0</td>\n",
       "    </tr>\n",
       "  </tbody>\n",
       "</table>\n",
       "</div>"
      ],
      "text/plain": [
       "   cab  call  me  please  tonight  you\n",
       "0    0     1   0       0        1    1\n",
       "1    1     1   1       0        0    0\n",
       "2    0     1   1       2        0    0"
      ]
     },
     "execution_count": 20,
     "metadata": {},
     "output_type": "execute_result"
    }
   ],
   "source": [
    "# examine the vocabulary and document-term matrix together\n",
    "pd.DataFrame(simple_train_dtm.toarray(), columns=vect.get_feature_names())"
   ]
  },
  {
   "cell_type": "markdown",
   "metadata": {},
   "source": [
    "From the [scikit-learn documentation](http://scikit-learn.org/stable/modules/feature_extraction.html#text-feature-extraction):\n",
    "\n",
    "> In this scheme, features and samples are defined as follows:\n",
    "\n",
    "> - Each individual token occurrence frequency (normalized or not) is treated as a **feature**.\n",
    "> - The vector of all the token frequencies for a given document is considered a multivariate **sample**.\n",
    "\n",
    "> We call **vectorization** the general process of turning a collection of text documents into numerical feature vectors. This specific strategy (tokenization, counting and normalization) is called the **Bag of Words** or \"Bag of n-grams\" representation. Documents are described by word occurrences while completely ignoring the relative position information of the words in the document."
   ]
  },
  {
   "cell_type": "code",
   "execution_count": 21,
   "metadata": {},
   "outputs": [
    {
     "data": {
      "text/plain": [
       "scipy.sparse.csr.csr_matrix"
      ]
     },
     "execution_count": 21,
     "metadata": {},
     "output_type": "execute_result"
    }
   ],
   "source": [
    "# check the type of the document-term matrix\n",
    "type(simple_train_dtm)"
   ]
  },
  {
   "cell_type": "code",
   "execution_count": 22,
   "metadata": {},
   "outputs": [
    {
     "name": "stdout",
     "output_type": "stream",
     "text": [
      "  (0, 1)\t1\n",
      "  (0, 4)\t1\n",
      "  (0, 5)\t1\n",
      "  (1, 0)\t1\n",
      "  (1, 1)\t1\n",
      "  (1, 2)\t1\n",
      "  (2, 1)\t1\n",
      "  (2, 2)\t1\n",
      "  (2, 3)\t2\n"
     ]
    }
   ],
   "source": [
    "# examine the sparse matrix contents\n",
    "print(simple_train_dtm)"
   ]
  },
  {
   "cell_type": "markdown",
   "metadata": {},
   "source": [
    "From the [scikit-learn documentation](http://scikit-learn.org/stable/modules/feature_extraction.html#text-feature-extraction):\n",
    "\n",
    "> As most documents will typically use a very small subset of the words used in the corpus, the resulting matrix will have **many feature values that are zeros** (typically more than 99% of them).\n",
    "\n",
    "> For instance, a collection of 10,000 short text documents (such as emails) will use a vocabulary with a size in the order of 100,000 unique words in total while each document will use 100 to 1000 unique words individually.\n",
    "\n",
    "> In order to be able to **store such a matrix in memory** but also to **speed up operations**, implementations will typically use a **sparse representation** such as the implementations available in the `scipy.sparse` package."
   ]
  },
  {
   "cell_type": "code",
   "execution_count": 23,
   "metadata": {
    "collapsed": true
   },
   "outputs": [],
   "source": [
    "# example text for model testing\n",
    "simple_test = [\"please don't call me\"]"
   ]
  },
  {
   "cell_type": "markdown",
   "metadata": {},
   "source": [
    "In order to **make a prediction**, the new observation must have the **same features as the training observations**, both in number and meaning."
   ]
  },
  {
   "cell_type": "code",
   "execution_count": 24,
   "metadata": {},
   "outputs": [
    {
     "data": {
      "text/plain": [
       "array([[0, 1, 1, 1, 0, 0]], dtype=int64)"
      ]
     },
     "execution_count": 24,
     "metadata": {},
     "output_type": "execute_result"
    }
   ],
   "source": [
    "# transform testing data into a document-term matrix (using existing vocabulary)\n",
    "simple_test_dtm = vect.transform(simple_test)\n",
    "simple_test_dtm.toarray()"
   ]
  },
  {
   "cell_type": "code",
   "execution_count": 25,
   "metadata": {},
   "outputs": [
    {
     "data": {
      "text/html": [
       "<div>\n",
       "<style>\n",
       "    .dataframe thead tr:only-child th {\n",
       "        text-align: right;\n",
       "    }\n",
       "\n",
       "    .dataframe thead th {\n",
       "        text-align: left;\n",
       "    }\n",
       "\n",
       "    .dataframe tbody tr th {\n",
       "        vertical-align: top;\n",
       "    }\n",
       "</style>\n",
       "<table border=\"1\" class=\"dataframe\">\n",
       "  <thead>\n",
       "    <tr style=\"text-align: right;\">\n",
       "      <th></th>\n",
       "      <th>cab</th>\n",
       "      <th>call</th>\n",
       "      <th>me</th>\n",
       "      <th>please</th>\n",
       "      <th>tonight</th>\n",
       "      <th>you</th>\n",
       "    </tr>\n",
       "  </thead>\n",
       "  <tbody>\n",
       "    <tr>\n",
       "      <th>0</th>\n",
       "      <td>0</td>\n",
       "      <td>1</td>\n",
       "      <td>1</td>\n",
       "      <td>1</td>\n",
       "      <td>0</td>\n",
       "      <td>0</td>\n",
       "    </tr>\n",
       "  </tbody>\n",
       "</table>\n",
       "</div>"
      ],
      "text/plain": [
       "   cab  call  me  please  tonight  you\n",
       "0    0     1   1       1        0    0"
      ]
     },
     "execution_count": 25,
     "metadata": {},
     "output_type": "execute_result"
    }
   ],
   "source": [
    "# examine the vocabulary and document-term matrix together\n",
    "pd.DataFrame(simple_test_dtm.toarray(), columns=vect.get_feature_names())"
   ]
  },
  {
   "cell_type": "markdown",
   "metadata": {},
   "source": [
    "**Summary:**\n",
    "\n",
    "- `vect.fit(train)` **learns the vocabulary** of the training data\n",
    "- `vect.transform(train)` uses the **fitted vocabulary** to build a document-term matrix from the training data\n",
    "- `vect.transform(test)` uses the **fitted vocabulary** to build a document-term matrix from the testing data (and **ignores tokens** it hasn't seen before)"
   ]
  },
  {
   "cell_type": "markdown",
   "metadata": {},
   "source": [
    "## _Now both training and testing data is in numeric format and can be provided to Machine Learning Model to Fit and then predict_"
   ]
  },
  {
   "cell_type": "markdown",
   "metadata": {},
   "source": [
    "## _Lets Run our model_"
   ]
  }
 ],
 "metadata": {
  "kernelspec": {
   "display_name": "Python 3",
   "language": "python",
   "name": "python3"
  },
  "language_info": {
   "codemirror_mode": {
    "name": "ipython",
    "version": 3
   },
   "file_extension": ".py",
   "mimetype": "text/x-python",
   "name": "python",
   "nbconvert_exporter": "python",
   "pygments_lexer": "ipython3",
   "version": "3.5.3"
  }
 },
 "nbformat": 4,
 "nbformat_minor": 2
}
