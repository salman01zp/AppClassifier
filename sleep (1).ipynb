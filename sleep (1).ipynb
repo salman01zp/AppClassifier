{
  "nbformat": 4,
  "nbformat_minor": 0,
  "metadata": {
    "colab": {
      "name": "sleep.ipynb",
      "version": "0.3.2",
      "provenance": [],
      "collapsed_sections": [],
      "toc_visible": true
    },
    "kernelspec": {
      "name": "python3",
      "display_name": "Python 3"
    }
  },
  "cells": [
    {
      "metadata": {
        "id": "VEDFJHYS4qgz",
        "colab_type": "text"
      },
      "cell_type": "markdown",
      "source": [
        "#  DATA EXPLORATION \n",
        "\n",
        "----------"
      ]
    },
    {
      "metadata": {
        "id": "9XEbkeNS5L1Y",
        "colab_type": "text"
      },
      "cell_type": "markdown",
      "source": [
        "Sleep apnea is a very common condtion  and its thought to affect about 30 % of the people. The most common symptons of Sleep apnea are snoring ,choking or gasping during sleep.\n",
        "\n",
        "Patients with obstructive sleep apnea partially or totally obstruct their Airway many times during the course of the night. When the obstruction is partial you snore if the obstruction is complete then you have an apnea which is the sessation of all air flow. When the air flow is interepted the flow of oxygen to the lungs and therefore to  the body is also interrupted\n",
        "Untreated significant sleep apnea can be life threatening its associated with increase risk of Hypertension, Diabetis , Stroke as well as motor vehical accidents\n",
        "\n",
        "SLEEP APNEA SYMPTOMS\n",
        "* <b> Snoring </b>\n",
        "* <b> Excessive daytime sleepiness </b>\n",
        "* <b> Feeling un-refreshed in the morning  </b>\n",
        "* <b> Morning Headaches</b>\n",
        "* <b> Stop breathing during sleepapnea</b>\n",
        "* <b> Choking or gasping during sleep  </b>\n",
        "* <b> Awakening with dry mouth or sore throat</b>\n",
        "* <b> Impaired emotional or mental functioning </b>\n",
        "* <b> Poor concentration and forgetfulness </b>\n",
        "* <b> Difficulty staying asleep</b>\n",
        "* <b> Type II Diabetes  </b>\n",
        "* <b> Hypertension</b>\n",
        "* <b> Overweight </b>\n",
        "\n",
        "----------"
      ]
    },
    {
      "metadata": {
        "id": "z68GZrRc5xzF",
        "colab_type": "code",
        "colab": {}
      },
      "cell_type": "code",
      "source": [
        "!pip install pyedflib"
      ],
      "execution_count": 0,
      "outputs": []
    },
    {
      "metadata": {
        "id": "bXGoYQ5W6O_f",
        "colab_type": "code",
        "colab": {}
      },
      "cell_type": "code",
      "source": [
        "import numpy as np # linear algebra\n",
        "import pandas as pd # data processing, CSV file I/O (e.g. pd.read_csv)\n",
        "import xml.etree.ElementTree as ET\n",
        "import pyedflib\n",
        "import os\n",
        "!unzip sample.zip\n",
        "!ls"
      ],
      "execution_count": 0,
      "outputs": []
    },
    {
      "metadata": {
        "id": "2Xi7IMz06U6k",
        "colab_type": "code",
        "colab": {
          "base_uri": "https://localhost:8080/",
          "height": 35
        },
        "outputId": "cb873b0c-bae1-49a8-ff5d-3cc6c07b27c6"
      },
      "cell_type": "code",
      "source": [
        "print(os.listdir(\"data/\"))"
      ],
      "execution_count": 54,
      "outputs": [
        {
          "output_type": "stream",
          "text": [
            "['stage', 'apnea', 'flow']\n"
          ],
          "name": "stdout"
        }
      ]
    },
    {
      "metadata": {
        "id": "6uLL3SH_Espr",
        "colab_type": "code",
        "colab": {}
      },
      "cell_type": "code",
      "source": [
        "mesa_path1 = \"data/apnea/mesa-sleep-0001-profusion.xml\"\n",
        "mesa_path2 = \"data/stage/mesa-sleep-0001-nsrr.xml\"\n",
        "edf_path = \"data/flow/mesa-sleep-0001.edf\""
      ],
      "execution_count": 0,
      "outputs": []
    },
    {
      "metadata": {
        "id": "ls2HtAJIFZde",
        "colab_type": "text"
      },
      "cell_type": "markdown",
      "source": [
        " ### EXTRACT DATA FROM APNEA FOLDER XML FILE\n",
        " \n",
        " --------------"
      ]
    },
    {
      "metadata": {
        "id": "jKm3p8EeGCi6",
        "colab_type": "code",
        "colab": {}
      },
      "cell_type": "code",
      "source": [
        "def perf_func(elem, func, level=0):\n",
        "    func(elem,level)\n",
        "    for child in elem:\n",
        "        perf_func(child, func, level+1)"
      ],
      "execution_count": 0,
      "outputs": []
    },
    {
      "metadata": {
        "id": "DTsUvpcKGHmW",
        "colab_type": "code",
        "colab": {}
      },
      "cell_type": "code",
      "source": [
        "def print_level(elem,level):\n",
        "    print ('|'+'------'*level+ '->'+elem.tag)"
      ],
      "execution_count": 0,
      "outputs": []
    },
    {
      "metadata": {
        "id": "NzYVnMg-Fxlo",
        "colab_type": "code",
        "colab": {}
      },
      "cell_type": "code",
      "source": [
        "tree = ET.parse(mesa_path1)\n",
        "root = tree.getroot()"
      ],
      "execution_count": 0,
      "outputs": []
    },
    {
      "metadata": {
        "id": "7MoQ_ymNGKfC",
        "colab_type": "code",
        "colab": {}
      },
      "cell_type": "code",
      "source": [
        "# print(perf_func(root, print_level))"
      ],
      "execution_count": 0,
      "outputs": []
    },
    {
      "metadata": {
        "id": "uCxzzyw-Gs9U",
        "colab_type": "text"
      },
      "cell_type": "markdown",
      "source": [
        "We need to extract data containing label =\"Hypopnea\" which indicates that apnea occured to a patient at some point \n",
        "1. <b> Name</b> - We will select labels with Name = \"Hypopnea\n",
        "2. <b> Input</b>-  Airflow signal is used to diagonose sleep apnea\n",
        "3. <b> Start</b> -  Sarting time\n",
        "4. <b> Duration </b>- Total Duration\n",
        "\n",
        "----------------"
      ]
    },
    {
      "metadata": {
        "id": "17SjaLoUG7hL",
        "colab_type": "code",
        "colab": {
          "base_uri": "https://localhost:8080/",
          "height": 202
        },
        "outputId": "150e6f7e-fdee-492f-fbe0-f29b2df64d35"
      },
      "cell_type": "code",
      "source": [
        "ts1=[]\n",
        "ts2=[]\n",
        "ts3=[]\n",
        "ts4=[]\n",
        "for child in root.iter('ScoredEvent'):\n",
        "    ts = child.find('Duration').text\n",
        "    ts1.append(ts)\n",
        "    t2=child.find('Input').text\n",
        "    ts2.append(t2)\n",
        "    t3=child.find('Name').text\n",
        "    ts3.append(t3)\n",
        "    t4=child.find('Start').text\n",
        "    ts4.append(t4)\n",
        "df1=pd.DataFrame({'Duration': ts1,'Input': ts2,'Name': ts3,'Start':ts4,})\n",
        "df1=df1.loc[(df1['Name'] == 'Hypopnea')]\n",
        "df1 = df1.reset_index(drop=True)\n",
        "df1.head()"
      ],
      "execution_count": 59,
      "outputs": [
        {
          "output_type": "execute_result",
          "data": {
            "text/html": [
              "<div>\n",
              "<style scoped>\n",
              "    .dataframe tbody tr th:only-of-type {\n",
              "        vertical-align: middle;\n",
              "    }\n",
              "\n",
              "    .dataframe tbody tr th {\n",
              "        vertical-align: top;\n",
              "    }\n",
              "\n",
              "    .dataframe thead th {\n",
              "        text-align: right;\n",
              "    }\n",
              "</style>\n",
              "<table border=\"1\" class=\"dataframe\">\n",
              "  <thead>\n",
              "    <tr style=\"text-align: right;\">\n",
              "      <th></th>\n",
              "      <th>Duration</th>\n",
              "      <th>Input</th>\n",
              "      <th>Name</th>\n",
              "      <th>Start</th>\n",
              "    </tr>\n",
              "  </thead>\n",
              "  <tbody>\n",
              "    <tr>\n",
              "      <th>0</th>\n",
              "      <td>12.3</td>\n",
              "      <td>Flow</td>\n",
              "      <td>Hypopnea</td>\n",
              "      <td>6114.7</td>\n",
              "    </tr>\n",
              "    <tr>\n",
              "      <th>1</th>\n",
              "      <td>11.1</td>\n",
              "      <td>Flow</td>\n",
              "      <td>Hypopnea</td>\n",
              "      <td>6188.9</td>\n",
              "    </tr>\n",
              "    <tr>\n",
              "      <th>2</th>\n",
              "      <td>12</td>\n",
              "      <td>Flow</td>\n",
              "      <td>Hypopnea</td>\n",
              "      <td>5489.7</td>\n",
              "    </tr>\n",
              "    <tr>\n",
              "      <th>3</th>\n",
              "      <td>10.7</td>\n",
              "      <td>Flow</td>\n",
              "      <td>Hypopnea</td>\n",
              "      <td>5552.1</td>\n",
              "    </tr>\n",
              "    <tr>\n",
              "      <th>4</th>\n",
              "      <td>11.2</td>\n",
              "      <td>Flow</td>\n",
              "      <td>Hypopnea</td>\n",
              "      <td>5573.4</td>\n",
              "    </tr>\n",
              "  </tbody>\n",
              "</table>\n",
              "</div>"
            ],
            "text/plain": [
              "  Duration Input      Name   Start\n",
              "0     12.3  Flow  Hypopnea  6114.7\n",
              "1     11.1  Flow  Hypopnea  6188.9\n",
              "2       12  Flow  Hypopnea  5489.7\n",
              "3     10.7  Flow  Hypopnea  5552.1\n",
              "4     11.2  Flow  Hypopnea  5573.4"
            ]
          },
          "metadata": {
            "tags": []
          },
          "execution_count": 59
        }
      ]
    },
    {
      "metadata": {
        "id": "hfkfFfZaIYnN",
        "colab_type": "text"
      },
      "cell_type": "markdown",
      "source": [
        "###  ANALYSE EDF FILE IN EDF BROWSER\n",
        "\n",
        "\n",
        "---------------"
      ]
    },
    {
      "metadata": {
        "id": "ynCEu2gFRGTN",
        "colab_type": "code",
        "colab": {
          "base_uri": "https://localhost:8080/",
          "height": 467
        },
        "outputId": "e0293d2c-4646-4815-ee4e-01976e430fc0"
      },
      "cell_type": "code",
      "source": [
        "from IPython.display import Image\n",
        "Image('signal1.png', width=600, height=450)"
      ],
      "execution_count": 48,
      "outputs": [
        {
          "output_type": "execute_result",
          "data": {
            "image/png": "[encoded data removed]",
            "text/plain": [
              "<IPython.core.display.Image object>"
            ]
          },
          "metadata": {
            "tags": [],
            "image/png": {
              "width": 600,
              "height": 450
            }
          },
          "execution_count": 48
        }
      ]
    },
    {
      "metadata": {
        "id": "MRJNv44-PdKy",
        "colab_type": "text"
      },
      "cell_type": "markdown",
      "source": [
        "\n",
        "*  Above image shows the browser view of edf file , as we can see the list of signal files and sampling frequency of all signals respectively.\n",
        "\n",
        "*   We need to get data of Flow signal which is 9th and has sampling  frequency of 32\n",
        "\n",
        "\n",
        "[pyEDFlib](https://github.com/holgern/pyedflib) is a python library to read/write EDF+/BDF+ files based on EDFlib.This Library provides diffrent [commands](https://github.com/holgern/pyedflib/blob/master/demo/readEDFFile.py) to interact with edf files.\n",
        "For ex :-\n",
        "\n",
        "\n",
        "*    f.signals_in_file() - To get all signals in edf file\n",
        "*    f.file_duration()    - Duration of file\n",
        "\n",
        "\n",
        "*   f.datarecords_in_file() - Total no of records in file\n",
        "*   f.getSampleFrequency() - Sampling frequency of Signal\n",
        "\n",
        "\n",
        "\n",
        "\n",
        "\n",
        "\n",
        "\n",
        "\n",
        "\n",
        "\n",
        "\n"
      ]
    },
    {
      "metadata": {
        "id": "7l9D-izqYHxg",
        "colab_type": "text"
      },
      "cell_type": "markdown",
      "source": [
        "### GET AIR FLOW DATA FROM  EDF FILE\n",
        "\n",
        "----------------------"
      ]
    },
    {
      "metadata": {
        "id": "K6p2ysFJIlKS",
        "colab_type": "code",
        "colab": {
          "base_uri": "https://localhost:8080/",
          "height": 202
        },
        "outputId": "cd21d2b5-084b-4bac-9fb0-170bf35af77f"
      },
      "cell_type": "code",
      "source": [
        "\n",
        "file = pyedflib.EdfReader(edf_path)\n",
        "sampling_freq=file.getSampleFrequency(8)\n",
        "signal_data=file.readSignal(8)\n",
        "t=np.arange(0,len(signal_data))/sampling_freq\n",
        "file._close()\n",
        "df= pd.DataFrame({'Flow': signal_data,'Time': t})\n",
        "df.head()\n",
        "  \n"
      ],
      "execution_count": 69,
      "outputs": [
        {
          "output_type": "execute_result",
          "data": {
            "text/html": [
              "<div>\n",
              "<style scoped>\n",
              "    .dataframe tbody tr th:only-of-type {\n",
              "        vertical-align: middle;\n",
              "    }\n",
              "\n",
              "    .dataframe tbody tr th {\n",
              "        vertical-align: top;\n",
              "    }\n",
              "\n",
              "    .dataframe thead th {\n",
              "        text-align: right;\n",
              "    }\n",
              "</style>\n",
              "<table border=\"1\" class=\"dataframe\">\n",
              "  <thead>\n",
              "    <tr style=\"text-align: right;\">\n",
              "      <th></th>\n",
              "      <th>Flow</th>\n",
              "      <th>Time</th>\n",
              "    </tr>\n",
              "  </thead>\n",
              "  <tbody>\n",
              "    <tr>\n",
              "      <th>0</th>\n",
              "      <td>-0.069856</td>\n",
              "      <td>0.00000</td>\n",
              "    </tr>\n",
              "    <tr>\n",
              "      <th>1</th>\n",
              "      <td>-0.089265</td>\n",
              "      <td>0.03125</td>\n",
              "    </tr>\n",
              "    <tr>\n",
              "      <th>2</th>\n",
              "      <td>-0.090181</td>\n",
              "      <td>0.06250</td>\n",
              "    </tr>\n",
              "    <tr>\n",
              "      <th>3</th>\n",
              "      <td>-0.091646</td>\n",
              "      <td>0.09375</td>\n",
              "    </tr>\n",
              "    <tr>\n",
              "      <th>4</th>\n",
              "      <td>-0.093843</td>\n",
              "      <td>0.12500</td>\n",
              "    </tr>\n",
              "  </tbody>\n",
              "</table>\n",
              "</div>"
            ],
            "text/plain": [
              "       Flow     Time\n",
              "0 -0.069856  0.00000\n",
              "1 -0.089265  0.03125\n",
              "2 -0.090181  0.06250\n",
              "3 -0.091646  0.09375\n",
              "4 -0.093843  0.12500"
            ]
          },
          "metadata": {
            "tags": []
          },
          "execution_count": 69
        }
      ]
    },
    {
      "metadata": {
        "id": "LU6W-moHI4r-",
        "colab_type": "text"
      },
      "cell_type": "markdown",
      "source": [
        "###  PARSE DATA FROM SLEEP STAGES XML FILE\n",
        "\n",
        "----------------------"
      ]
    },
    {
      "metadata": {
        "id": "5k-LD1wOJFYn",
        "colab_type": "code",
        "colab": {}
      },
      "cell_type": "code",
      "source": [
        "tree1 = ET.parse(mesa_path2)\n",
        "root1 = tree1.getroot()"
      ],
      "execution_count": 0,
      "outputs": []
    },
    {
      "metadata": {
        "id": "noKaFzL-JAbU",
        "colab_type": "code",
        "colab": {}
      },
      "cell_type": "code",
      "source": [
        "# print(perf_func(root1, print_level))"
      ],
      "execution_count": 0,
      "outputs": []
    },
    {
      "metadata": {
        "id": "pQ1qp9RuIvgm",
        "colab_type": "code",
        "colab": {
          "base_uri": "https://localhost:8080/",
          "height": 202
        },
        "outputId": "17c86e88-20b7-44eb-aa52-2223ae3f477f"
      },
      "cell_type": "code",
      "source": [
        "ps1=[]\n",
        "ps2=[]\n",
        "ps3=[]\n",
        "ps4=[]\n",
        "for child in root1.iter('ScoredEvent'):\n",
        "    t1=child[0].text\n",
        "    ps1.append(t1)\n",
        "    t2=child[1].text\n",
        "    ps2.append(t2)\n",
        "    t3=child[2].text\n",
        "    ps3.append(t3)\n",
        "    t4=child[3].text\n",
        "    ps4.append(t4)\n",
        "df2=pd.DataFrame({'Type': ps1,'Stages': ps2,'Start': ps3,'Duration':ps4,})\n",
        "df2=df2.loc[(df2['Type'] == 'Stages|Stages')]\n",
        "df2 = df2.reset_index(drop=True)\n",
        "df2.head()"
      ],
      "execution_count": 72,
      "outputs": [
        {
          "output_type": "execute_result",
          "data": {
            "text/html": [
              "<div>\n",
              "<style scoped>\n",
              "    .dataframe tbody tr th:only-of-type {\n",
              "        vertical-align: middle;\n",
              "    }\n",
              "\n",
              "    .dataframe tbody tr th {\n",
              "        vertical-align: top;\n",
              "    }\n",
              "\n",
              "    .dataframe thead th {\n",
              "        text-align: right;\n",
              "    }\n",
              "</style>\n",
              "<table border=\"1\" class=\"dataframe\">\n",
              "  <thead>\n",
              "    <tr style=\"text-align: right;\">\n",
              "      <th></th>\n",
              "      <th>Duration</th>\n",
              "      <th>Stages</th>\n",
              "      <th>Start</th>\n",
              "      <th>Type</th>\n",
              "    </tr>\n",
              "  </thead>\n",
              "  <tbody>\n",
              "    <tr>\n",
              "      <th>0</th>\n",
              "      <td>5190.0</td>\n",
              "      <td>Wake|0</td>\n",
              "      <td>0.0</td>\n",
              "      <td>Stages|Stages</td>\n",
              "    </tr>\n",
              "    <tr>\n",
              "      <th>1</th>\n",
              "      <td>30.0</td>\n",
              "      <td>Stage 1 sleep|1</td>\n",
              "      <td>5190.0</td>\n",
              "      <td>Stages|Stages</td>\n",
              "    </tr>\n",
              "    <tr>\n",
              "      <th>2</th>\n",
              "      <td>90.0</td>\n",
              "      <td>Wake|0</td>\n",
              "      <td>5220.0</td>\n",
              "      <td>Stages|Stages</td>\n",
              "    </tr>\n",
              "    <tr>\n",
              "      <th>3</th>\n",
              "      <td>60.0</td>\n",
              "      <td>Stage 1 sleep|1</td>\n",
              "      <td>5310.0</td>\n",
              "      <td>Stages|Stages</td>\n",
              "    </tr>\n",
              "    <tr>\n",
              "      <th>4</th>\n",
              "      <td>90.0</td>\n",
              "      <td>Stage 2 sleep|2</td>\n",
              "      <td>5370.0</td>\n",
              "      <td>Stages|Stages</td>\n",
              "    </tr>\n",
              "  </tbody>\n",
              "</table>\n",
              "</div>"
            ],
            "text/plain": [
              "  Duration           Stages   Start           Type\n",
              "0   5190.0           Wake|0     0.0  Stages|Stages\n",
              "1     30.0  Stage 1 sleep|1  5190.0  Stages|Stages\n",
              "2     90.0           Wake|0  5220.0  Stages|Stages\n",
              "3     60.0  Stage 1 sleep|1  5310.0  Stages|Stages\n",
              "4     90.0  Stage 2 sleep|2  5370.0  Stages|Stages"
            ]
          },
          "metadata": {
            "tags": []
          },
          "execution_count": 72
        }
      ]
    },
    {
      "metadata": {
        "id": "IMpz2hX7JsDD",
        "colab_type": "text"
      },
      "cell_type": "markdown",
      "source": [
        "###  MERGE ALL THREE DATAFRAME\n",
        "\n",
        "-----------------"
      ]
    },
    {
      "metadata": {
        "id": "lxnWnwWAHwZm",
        "colab_type": "code",
        "colab": {
          "base_uri": "https://localhost:8080/",
          "height": 202
        },
        "outputId": "1424df11-2995-4517-ca72-1ddb0d75e842"
      },
      "cell_type": "code",
      "source": [
        "output =  pd.concat([df , df1[['Name']],df2[['Type']]] , axis=1)\n",
        "output.head()"
      ],
      "execution_count": 73,
      "outputs": [
        {
          "output_type": "execute_result",
          "data": {
            "text/html": [
              "<div>\n",
              "<style scoped>\n",
              "    .dataframe tbody tr th:only-of-type {\n",
              "        vertical-align: middle;\n",
              "    }\n",
              "\n",
              "    .dataframe tbody tr th {\n",
              "        vertical-align: top;\n",
              "    }\n",
              "\n",
              "    .dataframe thead th {\n",
              "        text-align: right;\n",
              "    }\n",
              "</style>\n",
              "<table border=\"1\" class=\"dataframe\">\n",
              "  <thead>\n",
              "    <tr style=\"text-align: right;\">\n",
              "      <th></th>\n",
              "      <th>Flow</th>\n",
              "      <th>Time</th>\n",
              "      <th>Name</th>\n",
              "      <th>Type</th>\n",
              "    </tr>\n",
              "  </thead>\n",
              "  <tbody>\n",
              "    <tr>\n",
              "      <th>0</th>\n",
              "      <td>-0.069856</td>\n",
              "      <td>0.00000</td>\n",
              "      <td>Hypopnea</td>\n",
              "      <td>Stages|Stages</td>\n",
              "    </tr>\n",
              "    <tr>\n",
              "      <th>1</th>\n",
              "      <td>-0.089265</td>\n",
              "      <td>0.03125</td>\n",
              "      <td>Hypopnea</td>\n",
              "      <td>Stages|Stages</td>\n",
              "    </tr>\n",
              "    <tr>\n",
              "      <th>2</th>\n",
              "      <td>-0.090181</td>\n",
              "      <td>0.06250</td>\n",
              "      <td>Hypopnea</td>\n",
              "      <td>Stages|Stages</td>\n",
              "    </tr>\n",
              "    <tr>\n",
              "      <th>3</th>\n",
              "      <td>-0.091646</td>\n",
              "      <td>0.09375</td>\n",
              "      <td>Hypopnea</td>\n",
              "      <td>Stages|Stages</td>\n",
              "    </tr>\n",
              "    <tr>\n",
              "      <th>4</th>\n",
              "      <td>-0.093843</td>\n",
              "      <td>0.12500</td>\n",
              "      <td>Hypopnea</td>\n",
              "      <td>Stages|Stages</td>\n",
              "    </tr>\n",
              "  </tbody>\n",
              "</table>\n",
              "</div>"
            ],
            "text/plain": [
              "       Flow     Time      Name           Type\n",
              "0 -0.069856  0.00000  Hypopnea  Stages|Stages\n",
              "1 -0.089265  0.03125  Hypopnea  Stages|Stages\n",
              "2 -0.090181  0.06250  Hypopnea  Stages|Stages\n",
              "3 -0.091646  0.09375  Hypopnea  Stages|Stages\n",
              "4 -0.093843  0.12500  Hypopnea  Stages|Stages"
            ]
          },
          "metadata": {
            "tags": []
          },
          "execution_count": 73
        }
      ]
    },
    {
      "metadata": {
        "id": "VLkMtsVHM9oO",
        "colab_type": "text"
      },
      "cell_type": "markdown",
      "source": [
        "###  OUTPUT\n",
        "\n",
        "--------------"
      ]
    },
    {
      "metadata": {
        "id": "bXGoGp-tLWpP",
        "colab_type": "text"
      },
      "cell_type": "markdown",
      "source": [
        "CONVERT CATEGORIES INTO NUMERICAL VALUE "
      ]
    },
    {
      "metadata": {
        "id": "Zd9lhwmLLhxS",
        "colab_type": "code",
        "colab": {
          "base_uri": "https://localhost:8080/",
          "height": 355
        },
        "outputId": "ee4aa577-a712-42de-c60b-d9de273f7c29"
      },
      "cell_type": "code",
      "source": [
        "output['Name']=0\n",
        "output['Type']=0\n",
        "output.head(10)"
      ],
      "execution_count": 68,
      "outputs": [
        {
          "output_type": "execute_result",
          "data": {
            "text/html": [
              "<div>\n",
              "<style scoped>\n",
              "    .dataframe tbody tr th:only-of-type {\n",
              "        vertical-align: middle;\n",
              "    }\n",
              "\n",
              "    .dataframe tbody tr th {\n",
              "        vertical-align: top;\n",
              "    }\n",
              "\n",
              "    .dataframe thead th {\n",
              "        text-align: right;\n",
              "    }\n",
              "</style>\n",
              "<table border=\"1\" class=\"dataframe\">\n",
              "  <thead>\n",
              "    <tr style=\"text-align: right;\">\n",
              "      <th></th>\n",
              "      <th>Flow</th>\n",
              "      <th>Time</th>\n",
              "      <th>Name</th>\n",
              "      <th>Type</th>\n",
              "    </tr>\n",
              "  </thead>\n",
              "  <tbody>\n",
              "    <tr>\n",
              "      <th>0</th>\n",
              "      <td>-0.069856</td>\n",
              "      <td>0.00000</td>\n",
              "      <td>0</td>\n",
              "      <td>0</td>\n",
              "    </tr>\n",
              "    <tr>\n",
              "      <th>1</th>\n",
              "      <td>-0.089265</td>\n",
              "      <td>0.03125</td>\n",
              "      <td>0</td>\n",
              "      <td>0</td>\n",
              "    </tr>\n",
              "    <tr>\n",
              "      <th>2</th>\n",
              "      <td>-0.090181</td>\n",
              "      <td>0.06250</td>\n",
              "      <td>0</td>\n",
              "      <td>0</td>\n",
              "    </tr>\n",
              "    <tr>\n",
              "      <th>3</th>\n",
              "      <td>-0.091646</td>\n",
              "      <td>0.09375</td>\n",
              "      <td>0</td>\n",
              "      <td>0</td>\n",
              "    </tr>\n",
              "    <tr>\n",
              "      <th>4</th>\n",
              "      <td>-0.093843</td>\n",
              "      <td>0.12500</td>\n",
              "      <td>0</td>\n",
              "      <td>0</td>\n",
              "    </tr>\n",
              "    <tr>\n",
              "      <th>5</th>\n",
              "      <td>-0.096773</td>\n",
              "      <td>0.15625</td>\n",
              "      <td>0</td>\n",
              "      <td>0</td>\n",
              "    </tr>\n",
              "    <tr>\n",
              "      <th>6</th>\n",
              "      <td>-0.098238</td>\n",
              "      <td>0.18750</td>\n",
              "      <td>0</td>\n",
              "      <td>0</td>\n",
              "    </tr>\n",
              "    <tr>\n",
              "      <th>7</th>\n",
              "      <td>-0.097688</td>\n",
              "      <td>0.21875</td>\n",
              "      <td>0</td>\n",
              "      <td>0</td>\n",
              "    </tr>\n",
              "    <tr>\n",
              "      <th>8</th>\n",
              "      <td>-0.095857</td>\n",
              "      <td>0.25000</td>\n",
              "      <td>0</td>\n",
              "      <td>0</td>\n",
              "    </tr>\n",
              "    <tr>\n",
              "      <th>9</th>\n",
              "      <td>-0.089815</td>\n",
              "      <td>0.28125</td>\n",
              "      <td>0</td>\n",
              "      <td>0</td>\n",
              "    </tr>\n",
              "  </tbody>\n",
              "</table>\n",
              "</div>"
            ],
            "text/plain": [
              "       Flow     Time  Name  Type\n",
              "0 -0.069856  0.00000     0     0\n",
              "1 -0.089265  0.03125     0     0\n",
              "2 -0.090181  0.06250     0     0\n",
              "3 -0.091646  0.09375     0     0\n",
              "4 -0.093843  0.12500     0     0\n",
              "5 -0.096773  0.15625     0     0\n",
              "6 -0.098238  0.18750     0     0\n",
              "7 -0.097688  0.21875     0     0\n",
              "8 -0.095857  0.25000     0     0\n",
              "9 -0.089815  0.28125     0     0"
            ]
          },
          "metadata": {
            "tags": []
          },
          "execution_count": 68
        }
      ]
    }
  ]
}